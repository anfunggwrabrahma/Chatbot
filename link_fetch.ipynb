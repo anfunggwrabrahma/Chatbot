{
 "cells": [
  {
   "cell_type": "markdown",
   "id": "50726b8c",
   "metadata": {},
   "source": [
    "Installing necessary libraries"
   ]
  },
  {
   "cell_type": "code",
   "execution_count": null,
   "id": "09ec25ad",
   "metadata": {},
   "outputs": [],
   "source": [
    "!pip install requests\n",
    "!pip install bs4\n",
    "!pip install html5lib"
   ]
  },
  {
   "cell_type": "markdown",
   "id": "9bf0e94f",
   "metadata": {},
   "source": [
    "Importing the module"
   ]
  },
  {
   "cell_type": "code",
   "execution_count": null,
   "id": "b12426b1",
   "metadata": {},
   "outputs": [],
   "source": [
    "from bs4 import BeautifulSoup\n",
    "import requests"
   ]
  },
  {
   "cell_type": "code",
   "execution_count": null,
   "id": "b551eb6b",
   "metadata": {},
   "outputs": [],
   "source": [
    "url = 'https://www.iocl.com/' # attaching the link of the website to be scrapped\n",
    "r = requests.get(url) # storing the websites contents\n",
    "html_content = r.content"
   ]
  },
  {
   "cell_type": "code",
   "execution_count": null,
   "id": "38347c73",
   "metadata": {},
   "outputs": [],
   "source": [
    "soup = BeautifulSoup(html_content,'html.parser')\n",
    "print(soup.prettify) # making proper arrangements"
   ]
  },
  {
   "cell_type": "markdown",
   "id": "815dff06",
   "metadata": {},
   "source": [
    "Searching the contents available for links"
   ]
  },
  {
   "cell_type": "code",
   "execution_count": null,
   "id": "885cea63",
   "metadata": {},
   "outputs": [],
   "source": [
    "links = soup.find_all('a')\n",
    "\n",
    "for link in links:\n",
    "    url = link.get('href')\n",
    "    text = link.text.strip()\n",
    "    \n",
    "    if (url is not None) and (url.startswith(\"https\") or url.startswith(\"http\") or url.startswith(\"/\")):\n",
    "        print(\"Name: \", text,\"\\t\",\"Link: \", url)"
   ]
  },
  {
   "cell_type": "code",
   "execution_count": null,
   "id": "4c6e8377",
   "metadata": {},
   "outputs": [],
   "source": [
    "import pandas as pd\n",
    "\n",
    "names = []\n",
    "urls = []\n",
    "\n",
    "for link in links:\n",
    "    url = link.get('href')\n",
    "    text = link.text.strip()\n",
    "\n",
    "    if (url is not None) and (url.startswith(\"https\") or url.startswith(\"http\") or url.startswith(\"/\")):\n",
    "        names.append(text)\n",
    "        urls.append(url)\n",
    "\n",
    "data = {'Name': names, 'Link': urls}\n",
    "\n",
    "df = pd.DataFrame(data)\n",
    "print(df)"
   ]
  },
  {
   "cell_type": "code",
   "execution_count": null,
   "id": "aff07c66",
   "metadata": {},
   "outputs": [],
   "source": [
    "print(len(url))"
   ]
  },
  {
   "cell_type": "markdown",
   "id": "04b68b5e",
   "metadata": {},
   "source": [
    "Furthur codes for saving the links depends on how the user wants to store them. They can either save the links in csv/excel format or in mysql or in jason file. Her we have saved the links in data.js file which we used directly in the chatbot."
   ]
  }
 ],
 "metadata": {
  "kernelspec": {
   "display_name": "Python 3 (ipykernel)",
   "language": "python",
   "name": "python3"
  },
  "language_info": {
   "codemirror_mode": {
    "name": "ipython",
    "version": 3
   },
   "file_extension": ".py",
   "mimetype": "text/x-python",
   "name": "python",
   "nbconvert_exporter": "python",
   "pygments_lexer": "ipython3",
   "version": "3.9.13"
  }
 },
 "nbformat": 4,
 "nbformat_minor": 5
}
